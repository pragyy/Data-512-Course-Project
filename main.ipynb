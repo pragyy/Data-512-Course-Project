{
 "cells": [
  {
   "cell_type": "code",
   "execution_count": 98,
   "metadata": {},
   "outputs": [
    {
     "data": {
      "text/plain": [
       "<Figure size 1440x360 with 0 Axes>"
      ]
     },
     "metadata": {},
     "output_type": "display_data"
    }
   ],
   "source": [
    "# importing required packages\n",
    "\n",
    "# packages for data manipulation\n",
    "import pandas as pd\n",
    "import numpy as np\n",
    "\n",
    "# packages for visualization\n",
    "import seaborn as sns\n",
    "import matplotlib.pyplot as plt\n",
    "sns.set()\n",
    "plt.figure(figsize=(20,5))\n",
    "\n",
    "# calculating the derivative\n",
    "import ruptures as rpt\n",
    "\n",
    "# packages to ignore warnings \n",
    "import warnings\n",
    "warnings.filterwarnings('ignore')"
   ]
  },
  {
   "cell_type": "markdown",
   "metadata": {},
   "source": [
    "# 0. Data Acquisition\n",
    "\n",
    "For this analysis we are going to be using the following three dataset - \n",
    "\n",
    "1. The RAW_us_confirmed_cases.csv file from the Kaggle repository of John Hopkins University COVID-19 data.\n",
    "2. The CDC dataset of masking mandates by county. *Note that the CDC stopped collecting this policy information in September 2021.*\n",
    "3. The New York Times mask compliance survey data. \n",
    "\n",
    "The majority of this data is by US County by Day. The mask compliance is a single shot estimator that gives you a compliance estimate for every County in the US. \n",
    "\n",
    "Finally, for this analysis I will just be focusing on the `Middlesex` country in the state of `Massachusetts`."
   ]
  },
  {
   "cell_type": "markdown",
   "metadata": {},
   "source": [
    "## 0.0. Data 1\n",
    "\n",
    "This data is a time series data of the confirmed Covid cases reported daily. "
   ]
  },
  {
   "cell_type": "code",
   "execution_count": 2,
   "metadata": {},
   "outputs": [
    {
     "data": {
      "text/html": [
       "<div>\n",
       "<style scoped>\n",
       "    .dataframe tbody tr th:only-of-type {\n",
       "        vertical-align: middle;\n",
       "    }\n",
       "\n",
       "    .dataframe tbody tr th {\n",
       "        vertical-align: top;\n",
       "    }\n",
       "\n",
       "    .dataframe thead th {\n",
       "        text-align: right;\n",
       "    }\n",
       "</style>\n",
       "<table border=\"1\" class=\"dataframe\">\n",
       "  <thead>\n",
       "    <tr style=\"text-align: right;\">\n",
       "      <th></th>\n",
       "      <th>Province_State</th>\n",
       "      <th>Admin2</th>\n",
       "      <th>UID</th>\n",
       "      <th>iso2</th>\n",
       "      <th>iso3</th>\n",
       "      <th>code3</th>\n",
       "      <th>FIPS</th>\n",
       "      <th>Country_Region</th>\n",
       "      <th>Lat</th>\n",
       "      <th>Long_</th>\n",
       "      <th>...</th>\n",
       "      <th>10/24/22</th>\n",
       "      <th>10/25/22</th>\n",
       "      <th>10/26/22</th>\n",
       "      <th>10/27/22</th>\n",
       "      <th>10/28/22</th>\n",
       "      <th>10/29/22</th>\n",
       "      <th>10/30/22</th>\n",
       "      <th>10/31/22</th>\n",
       "      <th>11/1/22</th>\n",
       "      <th>11/2/22</th>\n",
       "    </tr>\n",
       "  </thead>\n",
       "  <tbody>\n",
       "    <tr>\n",
       "      <th>1274</th>\n",
       "      <td>Massachusetts</td>\n",
       "      <td>Middlesex</td>\n",
       "      <td>84025017</td>\n",
       "      <td>US</td>\n",
       "      <td>USA</td>\n",
       "      <td>840</td>\n",
       "      <td>25017.0</td>\n",
       "      <td>US</td>\n",
       "      <td>42.486077</td>\n",
       "      <td>-71.390492</td>\n",
       "      <td>...</td>\n",
       "      <td>410737</td>\n",
       "      <td>410737</td>\n",
       "      <td>410737</td>\n",
       "      <td>412305</td>\n",
       "      <td>412305</td>\n",
       "      <td>412305</td>\n",
       "      <td>412305</td>\n",
       "      <td>412305</td>\n",
       "      <td>412305</td>\n",
       "      <td>412305</td>\n",
       "    </tr>\n",
       "  </tbody>\n",
       "</table>\n",
       "<p>1 rows × 1027 columns</p>\n",
       "</div>"
      ],
      "text/plain": [
       "     Province_State     Admin2       UID iso2 iso3  code3     FIPS  \\\n",
       "1274  Massachusetts  Middlesex  84025017   US  USA    840  25017.0   \n",
       "\n",
       "     Country_Region        Lat      Long_  ... 10/24/22  10/25/22  10/26/22  \\\n",
       "1274             US  42.486077 -71.390492  ...   410737    410737    410737   \n",
       "\n",
       "      10/27/22  10/28/22  10/29/22  10/30/22  10/31/22  11/1/22  11/2/22  \n",
       "1274    412305    412305    412305    412305    412305   412305   412305  \n",
       "\n",
       "[1 rows x 1027 columns]"
      ]
     },
     "execution_count": 2,
     "metadata": {},
     "output_type": "execute_result"
    }
   ],
   "source": [
    "# fetching RAW_us_confirmed_cases.csv\n",
    "us_confirmed_cases = pd.read_csv('data\\RAW_us_confirmed_cases.csv')\n",
    "\n",
    "# filtering the dataset for middlesex county\n",
    "middlesex_confirmed_cases = us_confirmed_cases[(us_confirmed_cases['Admin2'] == 'Middlesex') & (us_confirmed_cases['Province_State'] == 'Massachusetts')]\n",
    "middlesex_confirmed_cases"
   ]
  },
  {
   "cell_type": "markdown",
   "metadata": {},
   "source": [
    "As we can see above all of the data is in a single row, so we will need to perform data transformation, so that we have out time series structured as required.\n",
    "\n",
    "The initial columns of the data contains the information about the middlesex county and the rest is the time series so we will split the data into `general_info` and `confirmed_cases`."
   ]
  },
  {
   "cell_type": "code",
   "execution_count": 3,
   "metadata": {},
   "outputs": [
    {
     "data": {
      "text/html": [
       "<div>\n",
       "<style scoped>\n",
       "    .dataframe tbody tr th:only-of-type {\n",
       "        vertical-align: middle;\n",
       "    }\n",
       "\n",
       "    .dataframe tbody tr th {\n",
       "        vertical-align: top;\n",
       "    }\n",
       "\n",
       "    .dataframe thead th {\n",
       "        text-align: right;\n",
       "    }\n",
       "</style>\n",
       "<table border=\"1\" class=\"dataframe\">\n",
       "  <thead>\n",
       "    <tr style=\"text-align: right;\">\n",
       "      <th></th>\n",
       "      <th>date</th>\n",
       "      <th>cases</th>\n",
       "    </tr>\n",
       "  </thead>\n",
       "  <tbody>\n",
       "    <tr>\n",
       "      <th>0</th>\n",
       "      <td>1/23/20</td>\n",
       "      <td>0</td>\n",
       "    </tr>\n",
       "    <tr>\n",
       "      <th>1</th>\n",
       "      <td>1/24/20</td>\n",
       "      <td>0</td>\n",
       "    </tr>\n",
       "    <tr>\n",
       "      <th>2</th>\n",
       "      <td>1/25/20</td>\n",
       "      <td>0</td>\n",
       "    </tr>\n",
       "    <tr>\n",
       "      <th>3</th>\n",
       "      <td>1/26/20</td>\n",
       "      <td>0</td>\n",
       "    </tr>\n",
       "    <tr>\n",
       "      <th>4</th>\n",
       "      <td>1/27/20</td>\n",
       "      <td>0</td>\n",
       "    </tr>\n",
       "  </tbody>\n",
       "</table>\n",
       "</div>"
      ],
      "text/plain": [
       "      date  cases\n",
       "0  1/23/20      0\n",
       "1  1/24/20      0\n",
       "2  1/25/20      0\n",
       "3  1/26/20      0\n",
       "4  1/27/20      0"
      ]
     },
     "execution_count": 3,
     "metadata": {},
     "output_type": "execute_result"
    }
   ],
   "source": [
    "# first 12 columns are general info about the state \n",
    "middlesex_general_info = middlesex_confirmed_cases[middlesex_confirmed_cases.columns[0:12]]\n",
    "\n",
    "# this is useful later\n",
    "MASSACHUSETTS_FIPS = middlesex_confirmed_cases[\"FIPS\"].values[0]\n",
    "\n",
    "# confirmed cases time series \n",
    "middlesex_cases =  middlesex_confirmed_cases[middlesex_confirmed_cases.columns[12:]]\n",
    "middlesex_cases = pd.DataFrame(middlesex_cases.iloc[0])\n",
    "middlesex_cases = middlesex_cases.reset_index()\n",
    "middlesex_cases.columns = [\"date\", \"cases\"]\n",
    "middlesex_cases.head()"
   ]
  },
  {
   "cell_type": "markdown",
   "metadata": {},
   "source": [
    "## 0.1. Data 2\n",
    "\n",
    "This dataset provides the mask use by county."
   ]
  },
  {
   "cell_type": "code",
   "execution_count": 4,
   "metadata": {},
   "outputs": [
    {
     "data": {
      "text/html": [
       "<div>\n",
       "<style scoped>\n",
       "    .dataframe tbody tr th:only-of-type {\n",
       "        vertical-align: middle;\n",
       "    }\n",
       "\n",
       "    .dataframe tbody tr th {\n",
       "        vertical-align: top;\n",
       "    }\n",
       "\n",
       "    .dataframe thead th {\n",
       "        text-align: right;\n",
       "    }\n",
       "</style>\n",
       "<table border=\"1\" class=\"dataframe\">\n",
       "  <thead>\n",
       "    <tr style=\"text-align: right;\">\n",
       "      <th></th>\n",
       "      <th>COUNTYFP</th>\n",
       "      <th>NEVER</th>\n",
       "      <th>RARELY</th>\n",
       "      <th>SOMETIMES</th>\n",
       "      <th>FREQUENTLY</th>\n",
       "      <th>ALWAYS</th>\n",
       "    </tr>\n",
       "  </thead>\n",
       "  <tbody>\n",
       "    <tr>\n",
       "      <th>0</th>\n",
       "      <td>1001</td>\n",
       "      <td>0.053</td>\n",
       "      <td>0.074</td>\n",
       "      <td>0.134</td>\n",
       "      <td>0.295</td>\n",
       "      <td>0.444</td>\n",
       "    </tr>\n",
       "    <tr>\n",
       "      <th>1</th>\n",
       "      <td>1003</td>\n",
       "      <td>0.083</td>\n",
       "      <td>0.059</td>\n",
       "      <td>0.098</td>\n",
       "      <td>0.323</td>\n",
       "      <td>0.436</td>\n",
       "    </tr>\n",
       "    <tr>\n",
       "      <th>2</th>\n",
       "      <td>1005</td>\n",
       "      <td>0.067</td>\n",
       "      <td>0.121</td>\n",
       "      <td>0.120</td>\n",
       "      <td>0.201</td>\n",
       "      <td>0.491</td>\n",
       "    </tr>\n",
       "    <tr>\n",
       "      <th>3</th>\n",
       "      <td>1007</td>\n",
       "      <td>0.020</td>\n",
       "      <td>0.034</td>\n",
       "      <td>0.096</td>\n",
       "      <td>0.278</td>\n",
       "      <td>0.572</td>\n",
       "    </tr>\n",
       "    <tr>\n",
       "      <th>4</th>\n",
       "      <td>1009</td>\n",
       "      <td>0.053</td>\n",
       "      <td>0.114</td>\n",
       "      <td>0.180</td>\n",
       "      <td>0.194</td>\n",
       "      <td>0.459</td>\n",
       "    </tr>\n",
       "  </tbody>\n",
       "</table>\n",
       "</div>"
      ],
      "text/plain": [
       "   COUNTYFP  NEVER  RARELY  SOMETIMES  FREQUENTLY  ALWAYS\n",
       "0      1001  0.053   0.074      0.134       0.295   0.444\n",
       "1      1003  0.083   0.059      0.098       0.323   0.436\n",
       "2      1005  0.067   0.121      0.120       0.201   0.491\n",
       "3      1007  0.020   0.034      0.096       0.278   0.572\n",
       "4      1009  0.053   0.114      0.180       0.194   0.459"
      ]
     },
     "execution_count": 4,
     "metadata": {},
     "output_type": "execute_result"
    }
   ],
   "source": [
    "# fetching mask mandate data by county\n",
    "mask_use_by_county = pd.read_csv('data\\mask-use-by-county.csv')\n",
    "mask_use_by_county.head()"
   ]
  },
  {
   "cell_type": "markdown",
   "metadata": {},
   "source": [
    "The above data is for all the US counties. As I mentioned previously, we are focusing this analysis for the middlesex county. So filtering the data for the middlesex county."
   ]
  },
  {
   "cell_type": "code",
   "execution_count": 5,
   "metadata": {},
   "outputs": [
    {
     "data": {
      "text/html": [
       "<div>\n",
       "<style scoped>\n",
       "    .dataframe tbody tr th:only-of-type {\n",
       "        vertical-align: middle;\n",
       "    }\n",
       "\n",
       "    .dataframe tbody tr th {\n",
       "        vertical-align: top;\n",
       "    }\n",
       "\n",
       "    .dataframe thead th {\n",
       "        text-align: right;\n",
       "    }\n",
       "</style>\n",
       "<table border=\"1\" class=\"dataframe\">\n",
       "  <thead>\n",
       "    <tr style=\"text-align: right;\">\n",
       "      <th></th>\n",
       "      <th>COUNTYFP</th>\n",
       "      <th>NEVER</th>\n",
       "      <th>RARELY</th>\n",
       "      <th>SOMETIMES</th>\n",
       "      <th>FREQUENTLY</th>\n",
       "      <th>ALWAYS</th>\n",
       "    </tr>\n",
       "  </thead>\n",
       "  <tbody>\n",
       "    <tr>\n",
       "      <th>1225</th>\n",
       "      <td>25017</td>\n",
       "      <td>0.023</td>\n",
       "      <td>0.011</td>\n",
       "      <td>0.041</td>\n",
       "      <td>0.127</td>\n",
       "      <td>0.798</td>\n",
       "    </tr>\n",
       "  </tbody>\n",
       "</table>\n",
       "</div>"
      ],
      "text/plain": [
       "      COUNTYFP  NEVER  RARELY  SOMETIMES  FREQUENTLY  ALWAYS\n",
       "1225     25017  0.023   0.011      0.041       0.127   0.798"
      ]
     },
     "execution_count": 5,
     "metadata": {},
     "output_type": "execute_result"
    }
   ],
   "source": [
    "# filtering for middlesex county in Massachusetts\n",
    "MA_mask_use = mask_use_by_county[mask_use_by_county[\"COUNTYFP\"] == MASSACHUSETTS_FIPS]\n",
    "MA_mask_use"
   ]
  },
  {
   "cell_type": "markdown",
   "metadata": {},
   "source": [
    "## 0.2. Data 3\n",
    "\n",
    "This data porovides the mask mandate for each day and for all the US counties."
   ]
  },
  {
   "cell_type": "code",
   "execution_count": 6,
   "metadata": {},
   "outputs": [
    {
     "data": {
      "text/html": [
       "<div>\n",
       "<style scoped>\n",
       "    .dataframe tbody tr th:only-of-type {\n",
       "        vertical-align: middle;\n",
       "    }\n",
       "\n",
       "    .dataframe tbody tr th {\n",
       "        vertical-align: top;\n",
       "    }\n",
       "\n",
       "    .dataframe thead th {\n",
       "        text-align: right;\n",
       "    }\n",
       "</style>\n",
       "<table border=\"1\" class=\"dataframe\">\n",
       "  <thead>\n",
       "    <tr style=\"text-align: right;\">\n",
       "      <th></th>\n",
       "      <th>State_Tribe_Territory</th>\n",
       "      <th>County_Name</th>\n",
       "      <th>FIPS_State</th>\n",
       "      <th>FIPS_County</th>\n",
       "      <th>date</th>\n",
       "      <th>order_code</th>\n",
       "      <th>Face_Masks_Required_in_Public</th>\n",
       "      <th>Source_of_Action</th>\n",
       "      <th>URL</th>\n",
       "      <th>Citation</th>\n",
       "    </tr>\n",
       "  </thead>\n",
       "  <tbody>\n",
       "    <tr>\n",
       "      <th>0</th>\n",
       "      <td>AL</td>\n",
       "      <td>Autauga County</td>\n",
       "      <td>1</td>\n",
       "      <td>1</td>\n",
       "      <td>4/10/2020</td>\n",
       "      <td>2</td>\n",
       "      <td>NaN</td>\n",
       "      <td>NaN</td>\n",
       "      <td>NaN</td>\n",
       "      <td>NaN</td>\n",
       "    </tr>\n",
       "    <tr>\n",
       "      <th>1</th>\n",
       "      <td>AL</td>\n",
       "      <td>Autauga County</td>\n",
       "      <td>1</td>\n",
       "      <td>1</td>\n",
       "      <td>4/11/2020</td>\n",
       "      <td>2</td>\n",
       "      <td>NaN</td>\n",
       "      <td>NaN</td>\n",
       "      <td>NaN</td>\n",
       "      <td>NaN</td>\n",
       "    </tr>\n",
       "    <tr>\n",
       "      <th>2</th>\n",
       "      <td>AL</td>\n",
       "      <td>Autauga County</td>\n",
       "      <td>1</td>\n",
       "      <td>1</td>\n",
       "      <td>4/12/2020</td>\n",
       "      <td>2</td>\n",
       "      <td>NaN</td>\n",
       "      <td>NaN</td>\n",
       "      <td>NaN</td>\n",
       "      <td>NaN</td>\n",
       "    </tr>\n",
       "    <tr>\n",
       "      <th>3</th>\n",
       "      <td>AL</td>\n",
       "      <td>Autauga County</td>\n",
       "      <td>1</td>\n",
       "      <td>1</td>\n",
       "      <td>4/13/2020</td>\n",
       "      <td>2</td>\n",
       "      <td>NaN</td>\n",
       "      <td>NaN</td>\n",
       "      <td>NaN</td>\n",
       "      <td>NaN</td>\n",
       "    </tr>\n",
       "    <tr>\n",
       "      <th>4</th>\n",
       "      <td>AL</td>\n",
       "      <td>Autauga County</td>\n",
       "      <td>1</td>\n",
       "      <td>1</td>\n",
       "      <td>4/14/2020</td>\n",
       "      <td>2</td>\n",
       "      <td>NaN</td>\n",
       "      <td>NaN</td>\n",
       "      <td>NaN</td>\n",
       "      <td>NaN</td>\n",
       "    </tr>\n",
       "  </tbody>\n",
       "</table>\n",
       "</div>"
      ],
      "text/plain": [
       "  State_Tribe_Territory     County_Name  FIPS_State  FIPS_County       date  \\\n",
       "0                    AL  Autauga County           1            1  4/10/2020   \n",
       "1                    AL  Autauga County           1            1  4/11/2020   \n",
       "2                    AL  Autauga County           1            1  4/12/2020   \n",
       "3                    AL  Autauga County           1            1  4/13/2020   \n",
       "4                    AL  Autauga County           1            1  4/14/2020   \n",
       "\n",
       "   order_code Face_Masks_Required_in_Public Source_of_Action  URL Citation  \n",
       "0           2                           NaN              NaN  NaN      NaN  \n",
       "1           2                           NaN              NaN  NaN      NaN  \n",
       "2           2                           NaN              NaN  NaN      NaN  \n",
       "3           2                           NaN              NaN  NaN      NaN  \n",
       "4           2                           NaN              NaN  NaN      NaN  "
      ]
     },
     "execution_count": 6,
     "metadata": {},
     "output_type": "execute_result"
    }
   ],
   "source": [
    "# fetching mask mandate data\n",
    "mask_mandates_april20_aug21 = pd.read_csv('data\\\\U.S._State_and_Territorial_Public_Mask_Mandates_From_April_10__2020_through_August_15__2021_by_County_by_Day.csv')\n",
    "mask_mandates_april20_aug21.head()"
   ]
  },
  {
   "cell_type": "markdown",
   "metadata": {},
   "source": [
    "Again filtering this for the middlesex county in the state of Massuchusetts."
   ]
  },
  {
   "cell_type": "code",
   "execution_count": 7,
   "metadata": {},
   "outputs": [
    {
     "data": {
      "text/html": [
       "<div>\n",
       "<style scoped>\n",
       "    .dataframe tbody tr th:only-of-type {\n",
       "        vertical-align: middle;\n",
       "    }\n",
       "\n",
       "    .dataframe tbody tr th {\n",
       "        vertical-align: top;\n",
       "    }\n",
       "\n",
       "    .dataframe thead th {\n",
       "        text-align: right;\n",
       "    }\n",
       "</style>\n",
       "<table border=\"1\" class=\"dataframe\">\n",
       "  <thead>\n",
       "    <tr style=\"text-align: right;\">\n",
       "      <th></th>\n",
       "      <th>State_Tribe_Territory</th>\n",
       "      <th>County_Name</th>\n",
       "      <th>FIPS_State</th>\n",
       "      <th>FIPS_County</th>\n",
       "      <th>date</th>\n",
       "      <th>order_code</th>\n",
       "      <th>Face_Masks_Required_in_Public</th>\n",
       "      <th>Source_of_Action</th>\n",
       "      <th>URL</th>\n",
       "      <th>Citation</th>\n",
       "    </tr>\n",
       "  </thead>\n",
       "  <tbody>\n",
       "    <tr>\n",
       "      <th>323093</th>\n",
       "      <td>MA</td>\n",
       "      <td>Middlesex County</td>\n",
       "      <td>25</td>\n",
       "      <td>17</td>\n",
       "      <td>4/14/2020</td>\n",
       "      <td>2</td>\n",
       "      <td>NaN</td>\n",
       "      <td>NaN</td>\n",
       "      <td>NaN</td>\n",
       "      <td>NaN</td>\n",
       "    </tr>\n",
       "    <tr>\n",
       "      <th>323184</th>\n",
       "      <td>MA</td>\n",
       "      <td>Middlesex County</td>\n",
       "      <td>25</td>\n",
       "      <td>17</td>\n",
       "      <td>4/15/2020</td>\n",
       "      <td>2</td>\n",
       "      <td>NaN</td>\n",
       "      <td>NaN</td>\n",
       "      <td>NaN</td>\n",
       "      <td>NaN</td>\n",
       "    </tr>\n",
       "    <tr>\n",
       "      <th>323214</th>\n",
       "      <td>MA</td>\n",
       "      <td>Middlesex County</td>\n",
       "      <td>25</td>\n",
       "      <td>17</td>\n",
       "      <td>4/16/2020</td>\n",
       "      <td>2</td>\n",
       "      <td>NaN</td>\n",
       "      <td>NaN</td>\n",
       "      <td>NaN</td>\n",
       "      <td>NaN</td>\n",
       "    </tr>\n",
       "    <tr>\n",
       "      <th>323244</th>\n",
       "      <td>MA</td>\n",
       "      <td>Middlesex County</td>\n",
       "      <td>25</td>\n",
       "      <td>17</td>\n",
       "      <td>4/17/2020</td>\n",
       "      <td>2</td>\n",
       "      <td>NaN</td>\n",
       "      <td>NaN</td>\n",
       "      <td>NaN</td>\n",
       "      <td>NaN</td>\n",
       "    </tr>\n",
       "    <tr>\n",
       "      <th>323307</th>\n",
       "      <td>MA</td>\n",
       "      <td>Middlesex County</td>\n",
       "      <td>25</td>\n",
       "      <td>17</td>\n",
       "      <td>4/18/2020</td>\n",
       "      <td>2</td>\n",
       "      <td>NaN</td>\n",
       "      <td>NaN</td>\n",
       "      <td>NaN</td>\n",
       "      <td>NaN</td>\n",
       "    </tr>\n",
       "  </tbody>\n",
       "</table>\n",
       "</div>"
      ],
      "text/plain": [
       "       State_Tribe_Territory       County_Name  FIPS_State  FIPS_County  \\\n",
       "323093                    MA  Middlesex County          25           17   \n",
       "323184                    MA  Middlesex County          25           17   \n",
       "323214                    MA  Middlesex County          25           17   \n",
       "323244                    MA  Middlesex County          25           17   \n",
       "323307                    MA  Middlesex County          25           17   \n",
       "\n",
       "             date  order_code Face_Masks_Required_in_Public Source_of_Action  \\\n",
       "323093  4/14/2020           2                           NaN              NaN   \n",
       "323184  4/15/2020           2                           NaN              NaN   \n",
       "323214  4/16/2020           2                           NaN              NaN   \n",
       "323244  4/17/2020           2                           NaN              NaN   \n",
       "323307  4/18/2020           2                           NaN              NaN   \n",
       "\n",
       "        URL Citation  \n",
       "323093  NaN      NaN  \n",
       "323184  NaN      NaN  \n",
       "323214  NaN      NaN  \n",
       "323244  NaN      NaN  \n",
       "323307  NaN      NaN  "
      ]
     },
     "execution_count": 7,
     "metadata": {},
     "output_type": "execute_result"
    }
   ],
   "source": [
    "# filtering for middlesex county in Massachusetts\n",
    "MA_mask_mandates_april20_aug21 = mask_mandates_april20_aug21[(mask_mandates_april20_aug21[\"State_Tribe_Territory\"] == \"MA\") &\\\n",
    "     (mask_mandates_april20_aug21['County_Name'] == 'Middlesex County')]\n",
    "MA_mask_mandates_april20_aug21.head()"
   ]
  },
  {
   "cell_type": "code",
   "execution_count": 8,
   "metadata": {},
   "outputs": [
    {
     "data": {
      "text/plain": [
       "array([nan, 'Yes', 'No'], dtype=object)"
      ]
     },
     "execution_count": 8,
     "metadata": {},
     "output_type": "execute_result"
    }
   ],
   "source": [
    "# unique values in the \"Face_Masks_Required_in_Public\"\n",
    "MA_mask_mandates_april20_aug21['Face_Masks_Required_in_Public'].unique()"
   ]
  },
  {
   "cell_type": "markdown",
   "metadata": {},
   "source": [
    "As we can see above that the attribute `Face_Masks_Required_in_Public` have values - Yes, No and NaN. So, lets set NaN values from before mandates came into effect to `NO`. Technically people were not required to wear masks when covid did not exist in the state."
   ]
  },
  {
   "cell_type": "code",
   "execution_count": 9,
   "metadata": {},
   "outputs": [],
   "source": [
    "# filling Nan with NO\n",
    "MA_mask_mandates_april20_aug21[\"Face_Masks_Required_in_Public\"] = MA_mask_mandates_april20_aug21[\"Face_Masks_Required_in_Public\"].fillna(\"No\")"
   ]
  },
  {
   "cell_type": "code",
   "execution_count": null,
   "metadata": {},
   "outputs": [],
   "source": [
    "# since it is a big data, filtering to just get the required columns\n",
    "mask_requirement = MA_mask_mandates_april20_aug21[['date', 'Face_Masks_Required_in_Public']]\n",
    "mask_requirement"
   ]
  },
  {
   "cell_type": "code",
   "execution_count": null,
   "metadata": {},
   "outputs": [],
   "source": [
    "# separating the above df to masked and unmasked dataframes\n",
    "masked = mask_requirement[mask_requirement['Face_Masks_Required_in_Public'] == 'Yes']\n",
    "unmasked = mask_requirement[mask_requirement['Face_Masks_Required_in_Public'] == 'No']"
   ]
  },
  {
   "cell_type": "markdown",
   "metadata": {},
   "source": [
    "# 1. Analyze & Visualize\n",
    "\n",
    "The research question that we are analyzing in this notebook is - \n",
    "\n",
    "***How did masking policies change the progression of confirmed COVID-19 cases from February 1, 2020 through October 1, 2021?***\n"
   ]
  },
  {
   "cell_type": "code",
   "execution_count": 30,
   "metadata": {},
   "outputs": [],
   "source": [
    "# setting date as index\n",
    "middlesex_cases = middlesex_cases.set_index('date')\n",
    "\n",
    "# calculating the derivative of confirmed cases (difference between consecutive rows)\n",
    "middlesex_cases[\"derivative_cases\"] = pd.Series(np.gradient(middlesex_cases[\"cases\"]), middlesex_cases.index, name='cases').values"
   ]
  },
  {
   "cell_type": "code",
   "execution_count": 37,
   "metadata": {},
   "outputs": [
    {
     "data": {
      "text/plain": [
       "<Figure size 1440x360 with 0 Axes>"
      ]
     },
     "metadata": {},
     "output_type": "display_data"
    },
    {
     "data": {
      "image/png": "[encoded data removed]",
      "text/plain": [
       "<Figure size 432x288 with 1 Axes>"
      ]
     },
     "metadata": {},
     "output_type": "display_data"
    }
   ],
   "source": [
    "# simple line chart of the covid cases\n",
    "middlesex_cases.plot()\n",
    "\n",
    "# defining the labels and title\n",
    "plt.ylabel('Covid Confirmed cases')\n",
    "plt.title('Daily confirmed covid cases')\n",
    "\n",
    "# showing the plot\n",
    "plt.show()"
   ]
  },
  {
   "cell_type": "code",
   "execution_count": 70,
   "metadata": {},
   "outputs": [
    {
     "data": {
      "image/png": "[encoded data removed]",
      "text/plain": [
       "<Figure size 432x288 with 1 Axes>"
      ]
     },
     "metadata": {},
     "output_type": "display_data"
    }
   ],
   "source": [
    "# kde plot to get the density\n",
    "middlesex_cases['cases'].plot.kde()\n",
    "plt.title(\"Kernel density estimation of the rates\")\n",
    "plt.show()"
   ]
  },
  {
   "cell_type": "code",
   "execution_count": 91,
   "metadata": {},
   "outputs": [],
   "source": [
    "#masked.date.tail(1)\n",
    "MASKED_14INTERVAL = (pd.to_datetime(masked.date) + pd.to_timedelta(14,unit='d')).iat[-1].strftime('%d-%m-%y')\n",
    "UNMASKED_14INTERVAL = (pd.to_datetime(unmasked.date) + pd.to_timedelta(14,unit='d')).iat[-1].strftime('%d-%m-%y')"
   ]
  },
  {
   "cell_type": "code",
   "execution_count": 97,
   "metadata": {},
   "outputs": [
    {
     "data": {
      "text/plain": [
       "Text(0, 0.5, 'Daily Cases')"
      ]
     },
     "execution_count": 97,
     "metadata": {},
     "output_type": "execute_result"
    },
    {
     "data": {
      "image/png": "[encoded data removed]",
      "text/plain": [
       "<Figure size 1440x360 with 1 Axes>"
      ]
     },
     "metadata": {},
     "output_type": "display_data"
    }
   ],
   "source": [
    "data = np.array(middlesex_cases['cases'])\n",
    "\n",
    "# detect the changepoints\n",
    "algo1 = rpt.Pelt(model='rbf').fit(data)\n",
    "change_location1 = algo1.predict(pen=10)\n",
    "\n",
    "# plotting the daily confirmed covid cases\n",
    "middlesex_cases['cases'].plot()\n",
    "\n",
    "# plotting the days with mask on and off\n",
    "plt.plot(masked.date, masked.Face_Masks_Required_in_Public, 'go')\n",
    "plt.plot(unmasked.date, unmasked.Face_Masks_Required_in_Public, 'ro')\n",
    "\n",
    "# plotting the 14-day interval line after the last mask-on date and mask-off date\n",
    "plt.axvline(x = MASKED_14INTERVAL, lw = 2, color = 'black')\n",
    "plt.axvline(x = UNMASKED_14INTERVAL, lw = 2, color = 'orange')\n",
    "\n",
    "# plotting the changepoints\n",
    "for x in change_location1:\n",
    "    plt.axvline(x,lw=2, color='red')\n",
    "\n",
    "# adding appropriate labels\n",
    "plt.title('Change points in daily cases')\n",
    "plt.xlabel('Date')\n",
    "plt.xticks(rotation=90)\n",
    "plt.ylabel('Daily Cases')"
   ]
  },
  {
   "cell_type": "code",
   "execution_count": 95,
   "metadata": {},
   "outputs": [
    {
     "data": {
      "text/plain": [
       "Text(0, 0.5, 'Daily Cases')"
      ]
     },
     "execution_count": 95,
     "metadata": {},
     "output_type": "execute_result"
    },
    {
     "data": {
      "image/png": "[encoded data removed]",
      "text/plain": [
       "<Figure size 1440x360 with 1 Axes>"
      ]
     },
     "metadata": {},
     "output_type": "display_data"
    }
   ],
   "source": [
    "data = np.array(middlesex_cases['derivative_cases'])\n",
    "\n",
    "# detect the change points\n",
    "algo1 = rpt.Pelt(model='rbf').fit(data)\n",
    "change_location1 = algo1.predict(pen=10)\n",
    "\n",
    "# plotting the daily change in the covid cases\n",
    "middlesex_cases['derivative_cases'].plot()\n",
    "\n",
    "# plotting the days with mask on and off\n",
    "plt.plot(masked.date, masked.Face_Masks_Required_in_Public, 'go')\n",
    "plt.plot(unmasked.date, unmasked.Face_Masks_Required_in_Public, 'ro')\n",
    "\n",
    "# plotting the 14-day interval line after the last mask-on date and mask-off date\n",
    "plt.axvline(x = MASKED_14INTERVAL, lw = 2, color = 'black')\n",
    "plt.axvline(x = UNMASKED_14INTERVAL, lw = 2, color = 'orange')\n",
    "\n",
    "# plotting the changepoints\n",
    "for x in change_location1:\n",
    "    plt.axvline(x,lw=2, color='red')\n",
    "\n",
    "# adding appropriate labels\n",
    "plt.title('Change points in daily change in cases')\n",
    "plt.xlabel('Date')\n",
    "plt.xticks(rotation=90)\n",
    "plt.ylabel('Daily change in Cases')"
   ]
  }
 ],
 "metadata": {
  "kernelspec": {
   "display_name": "Python 3.10.2 64-bit",
   "language": "python",
   "name": "python3"
  },
  "language_info": {
   "codemirror_mode": {
    "name": "ipython",
    "version": 3
   },
   "file_extension": ".py",
   "mimetype": "text/x-python",
   "name": "python",
   "nbconvert_exporter": "python",
   "pygments_lexer": "ipython3",
   "version": "3.10.2"
  },
  "orig_nbformat": 4,
  "vscode": {
   "interpreter": {
    "hash": "1c1e284a094d26f47d86d91c5bc055dd561660b5b78539c2f7bb1ca63826b557"
   }
  }
 },
 "nbformat": 4,
 "nbformat_minor": 2
}
